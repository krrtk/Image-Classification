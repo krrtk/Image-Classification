{
 "cells": [
  {
   "cell_type": "code",
   "execution_count": 3,
   "id": "a4cffebe-dc05-45b8-8c03-18038c44d5f8",
   "metadata": {},
   "outputs": [],
   "source": [
    "import tensorflow as tf\n",
    "import numpy as np\n",
    "import panadas as pd\n",
    "from tensorflow.keras import datasets,layers,models\n",
    "import matplotlib.pyplot as plt"
   ]
  },
  {
   "cell_type": "code",
   "execution_count": 4,
   "id": "f267aae4-86cb-43aa-acc0-43ec7c60a182",
   "metadata": {},
   "outputs": [],
   "source": [
    "(xt,yt), (xtt,ytt) = datasets.cifar10.load_data()"
   ]
  },
  {
   "cell_type": "code",
   "execution_count": 5,
   "id": "5f4aead6-e0d6-4044-b354-4eaee82f27d6",
   "metadata": {},
   "outputs": [
    {
     "data": {
      "text/plain": [
       "(50000, 32, 32, 3)"
      ]
     },
     "execution_count": 5,
     "metadata": {},
     "output_type": "execute_result"
    }
   ],
   "source": [
    "xt.shape"
   ]
  },
  {
   "cell_type": "code",
   "execution_count": 6,
   "id": "bf3cd208-04da-4791-b399-57cf86ac608b",
   "metadata": {},
   "outputs": [
    {
     "data": {
      "text/plain": [
       "(10000, 32, 32, 3)"
      ]
     },
     "execution_count": 6,
     "metadata": {},
     "output_type": "execute_result"
    }
   ],
   "source": [
    "xtt.shape"
   ]
  },
  {
   "cell_type": "code",
   "execution_count": 7,
   "id": "dc4eae20-738b-4bd6-a0a0-7794173cba26",
   "metadata": {},
   "outputs": [
    {
     "data": {
      "text/plain": [
       "array([[6],\n",
       "       [9],\n",
       "       [9],\n",
       "       [4],\n",
       "       [1]], dtype=uint8)"
      ]
     },
     "execution_count": 7,
     "metadata": {},
     "output_type": "execute_result"
    }
   ],
   "source": [
    "yt[:5]"
   ]
  },
  {
   "cell_type": "markdown",
   "id": "2be2c321-e1ef-4d34-a501-4787b7ff2eb8",
   "metadata": {},
   "source": [
    "_It is  2D array so we will convert it to 1D_"
   ]
  },
  {
   "cell_type": "code",
   "execution_count": 8,
   "id": "2689c2bf-d89f-4378-b482-c14c848cb5dd",
   "metadata": {},
   "outputs": [
    {
     "data": {
      "text/plain": [
       "array([6, 9, 9, ..., 9, 1, 1], dtype=uint8)"
      ]
     },
     "execution_count": 8,
     "metadata": {},
     "output_type": "execute_result"
    }
   ],
   "source": [
    "yt.reshape(-1,)"
   ]
  },
  {
   "cell_type": "code",
   "execution_count": 9,
   "id": "34f1cd0a-e11f-46b5-831d-2e40b80b54b8",
   "metadata": {},
   "outputs": [],
   "source": [
    "yt=yt.reshape(-1,)"
   ]
  },
  {
   "cell_type": "code",
   "execution_count": 10,
   "id": "cc17139a-6a87-498a-b681-bc2e5b8444eb",
   "metadata": {},
   "outputs": [
    {
     "data": {
      "text/plain": [
       "array([6, 9, 9, ..., 9, 1, 1], dtype=uint8)"
      ]
     },
     "execution_count": 10,
     "metadata": {},
     "output_type": "execute_result"
    }
   ],
   "source": [
    "yt"
   ]
  },
  {
   "cell_type": "code",
   "execution_count": 11,
   "id": "59e73c0a-b4b6-4fd6-9089-0ad8afc2545a",
   "metadata": {},
   "outputs": [],
   "source": [
    "ytt=ytt.reshape(-1,)"
   ]
  },
  {
   "cell_type": "code",
   "execution_count": 12,
   "id": "dff478df-192c-4cc0-ab24-c30d3e618361",
   "metadata": {},
   "outputs": [
    {
     "data": {
      "text/plain": [
       "array([[[[ 59,  62,  63],\n",
       "         [ 43,  46,  45],\n",
       "         [ 50,  48,  43],\n",
       "         ...,\n",
       "         [158, 132, 108],\n",
       "         [152, 125, 102],\n",
       "         [148, 124, 103]],\n",
       "\n",
       "        [[ 16,  20,  20],\n",
       "         [  0,   0,   0],\n",
       "         [ 18,   8,   0],\n",
       "         ...,\n",
       "         [123,  88,  55],\n",
       "         [119,  83,  50],\n",
       "         [122,  87,  57]],\n",
       "\n",
       "        [[ 25,  24,  21],\n",
       "         [ 16,   7,   0],\n",
       "         [ 49,  27,   8],\n",
       "         ...,\n",
       "         [118,  84,  50],\n",
       "         [120,  84,  50],\n",
       "         [109,  73,  42]],\n",
       "\n",
       "        ...,\n",
       "\n",
       "        [[208, 170,  96],\n",
       "         [201, 153,  34],\n",
       "         [198, 161,  26],\n",
       "         ...,\n",
       "         [160, 133,  70],\n",
       "         [ 56,  31,   7],\n",
       "         [ 53,  34,  20]],\n",
       "\n",
       "        [[180, 139,  96],\n",
       "         [173, 123,  42],\n",
       "         [186, 144,  30],\n",
       "         ...,\n",
       "         [184, 148,  94],\n",
       "         [ 97,  62,  34],\n",
       "         [ 83,  53,  34]],\n",
       "\n",
       "        [[177, 144, 116],\n",
       "         [168, 129,  94],\n",
       "         [179, 142,  87],\n",
       "         ...,\n",
       "         [216, 184, 140],\n",
       "         [151, 118,  84],\n",
       "         [123,  92,  72]]],\n",
       "\n",
       "\n",
       "       [[[154, 177, 187],\n",
       "         [126, 137, 136],\n",
       "         [105, 104,  95],\n",
       "         ...,\n",
       "         [ 91,  95,  71],\n",
       "         [ 87,  90,  71],\n",
       "         [ 79,  81,  70]],\n",
       "\n",
       "        [[140, 160, 169],\n",
       "         [145, 153, 154],\n",
       "         [125, 125, 118],\n",
       "         ...,\n",
       "         [ 96,  99,  78],\n",
       "         [ 77,  80,  62],\n",
       "         [ 71,  73,  61]],\n",
       "\n",
       "        [[140, 155, 164],\n",
       "         [139, 146, 149],\n",
       "         [115, 115, 112],\n",
       "         ...,\n",
       "         [ 79,  82,  64],\n",
       "         [ 68,  70,  55],\n",
       "         [ 67,  69,  55]],\n",
       "\n",
       "        ...,\n",
       "\n",
       "        [[175, 167, 166],\n",
       "         [156, 154, 160],\n",
       "         [154, 160, 170],\n",
       "         ...,\n",
       "         [ 42,  34,  36],\n",
       "         [ 61,  53,  57],\n",
       "         [ 93,  83,  91]],\n",
       "\n",
       "        [[165, 154, 128],\n",
       "         [156, 152, 130],\n",
       "         [159, 161, 142],\n",
       "         ...,\n",
       "         [103,  93,  96],\n",
       "         [123, 114, 120],\n",
       "         [131, 121, 131]],\n",
       "\n",
       "        [[163, 148, 120],\n",
       "         [158, 148, 122],\n",
       "         [163, 156, 133],\n",
       "         ...,\n",
       "         [143, 133, 139],\n",
       "         [143, 134, 142],\n",
       "         [143, 133, 144]]],\n",
       "\n",
       "\n",
       "       [[[255, 255, 255],\n",
       "         [253, 253, 253],\n",
       "         [253, 253, 253],\n",
       "         ...,\n",
       "         [253, 253, 253],\n",
       "         [253, 253, 253],\n",
       "         [253, 253, 253]],\n",
       "\n",
       "        [[255, 255, 255],\n",
       "         [255, 255, 255],\n",
       "         [255, 255, 255],\n",
       "         ...,\n",
       "         [255, 255, 255],\n",
       "         [255, 255, 255],\n",
       "         [255, 255, 255]],\n",
       "\n",
       "        [[255, 255, 255],\n",
       "         [254, 254, 254],\n",
       "         [254, 254, 254],\n",
       "         ...,\n",
       "         [254, 254, 254],\n",
       "         [254, 254, 254],\n",
       "         [254, 254, 254]],\n",
       "\n",
       "        ...,\n",
       "\n",
       "        [[113, 120, 112],\n",
       "         [111, 118, 111],\n",
       "         [105, 112, 106],\n",
       "         ...,\n",
       "         [ 72,  81,  80],\n",
       "         [ 72,  80,  79],\n",
       "         [ 72,  80,  79]],\n",
       "\n",
       "        [[111, 118, 110],\n",
       "         [104, 111, 104],\n",
       "         [ 99, 106,  98],\n",
       "         ...,\n",
       "         [ 68,  75,  73],\n",
       "         [ 70,  76,  75],\n",
       "         [ 78,  84,  82]],\n",
       "\n",
       "        [[106, 113, 105],\n",
       "         [ 99, 106,  98],\n",
       "         [ 95, 102,  94],\n",
       "         ...,\n",
       "         [ 78,  85,  83],\n",
       "         [ 79,  85,  83],\n",
       "         [ 80,  86,  84]]],\n",
       "\n",
       "\n",
       "       [[[ 28,  25,  10],\n",
       "         [ 37,  34,  19],\n",
       "         [ 38,  35,  20],\n",
       "         ...,\n",
       "         [ 76,  67,  39],\n",
       "         [ 81,  72,  43],\n",
       "         [ 85,  76,  47]],\n",
       "\n",
       "        [[ 33,  28,  13],\n",
       "         [ 34,  30,  14],\n",
       "         [ 32,  27,  12],\n",
       "         ...,\n",
       "         [ 95,  82,  55],\n",
       "         [ 96,  82,  56],\n",
       "         [ 85,  72,  45]],\n",
       "\n",
       "        [[ 39,  32,  15],\n",
       "         [ 40,  33,  17],\n",
       "         [ 57,  50,  33],\n",
       "         ...,\n",
       "         [ 93,  76,  52],\n",
       "         [107,  89,  66],\n",
       "         [ 95,  77,  54]],\n",
       "\n",
       "        ...,\n",
       "\n",
       "        [[ 83,  73,  52],\n",
       "         [ 87,  77,  56],\n",
       "         [ 84,  74,  52],\n",
       "         ...,\n",
       "         [ 99,  93,  70],\n",
       "         [ 90,  84,  61],\n",
       "         [ 81,  75,  52]],\n",
       "\n",
       "        [[ 88,  72,  51],\n",
       "         [ 90,  74,  52],\n",
       "         [ 93,  77,  56],\n",
       "         ...,\n",
       "         [ 80,  74,  53],\n",
       "         [ 76,  70,  49],\n",
       "         [ 82,  76,  55]],\n",
       "\n",
       "        [[ 97,  78,  56],\n",
       "         [ 94,  75,  53],\n",
       "         [ 93,  75,  53],\n",
       "         ...,\n",
       "         [ 54,  47,  28],\n",
       "         [ 63,  56,  37],\n",
       "         [ 72,  65,  46]]],\n",
       "\n",
       "\n",
       "       [[[170, 180, 198],\n",
       "         [168, 178, 196],\n",
       "         [177, 185, 203],\n",
       "         ...,\n",
       "         [162, 179, 215],\n",
       "         [158, 178, 214],\n",
       "         [157, 177, 212]],\n",
       "\n",
       "        [[168, 181, 198],\n",
       "         [172, 185, 201],\n",
       "         [171, 183, 200],\n",
       "         ...,\n",
       "         [159, 177, 212],\n",
       "         [156, 176, 211],\n",
       "         [154, 174, 209]],\n",
       "\n",
       "        [[154, 170, 186],\n",
       "         [149, 165, 181],\n",
       "         [129, 144, 162],\n",
       "         ...,\n",
       "         [161, 178, 214],\n",
       "         [157, 177, 212],\n",
       "         [154, 174, 209]],\n",
       "\n",
       "        ...,\n",
       "\n",
       "        [[ 74,  84,  80],\n",
       "         [ 76,  85,  81],\n",
       "         [ 78,  85,  82],\n",
       "         ...,\n",
       "         [ 71,  75,  78],\n",
       "         [ 68,  72,  75],\n",
       "         [ 61,  65,  68]],\n",
       "\n",
       "        [[ 68,  76,  77],\n",
       "         [ 69,  77,  78],\n",
       "         [ 72,  79,  78],\n",
       "         ...,\n",
       "         [ 76,  80,  83],\n",
       "         [ 71,  75,  78],\n",
       "         [ 71,  75,  78]],\n",
       "\n",
       "        [[ 67,  75,  78],\n",
       "         [ 68,  76,  79],\n",
       "         [ 69,  75,  76],\n",
       "         ...,\n",
       "         [ 75,  79,  82],\n",
       "         [ 71,  75,  78],\n",
       "         [ 73,  77,  80]]]], dtype=uint8)"
      ]
     },
     "execution_count": 12,
     "metadata": {},
     "output_type": "execute_result"
    }
   ],
   "source": [
    "xt[:5]"
   ]
  },
  {
   "cell_type": "markdown",
   "id": "0ab33973-9329-49f5-a74c-e3f574ecf058",
   "metadata": {},
   "source": [
    "# MENTIONING THE CLASSES IN THE DATASET"
   ]
  },
  {
   "cell_type": "code",
   "execution_count": 13,
   "id": "5e32445a-4195-4715-a477-dbcac6469c30",
   "metadata": {},
   "outputs": [],
   "source": [
    "classes=['aeroplane','automobile','bird','cat','deer','dog','frog','horse','ship','truck']"
   ]
  },
  {
   "cell_type": "code",
   "execution_count": 14,
   "id": "9d4398be-3a88-4041-b830-99f7c5bef6b3",
   "metadata": {},
   "outputs": [],
   "source": [
    "def plot_samp(x,y,index):\n",
    "    plt.figure(figsize=(15,2))\n",
    "    plt.imshow(x[index])\n",
    "    plt.xlabel(classes[y[index]])"
   ]
  },
  {
   "cell_type": "code",
   "execution_count": 15,
   "id": "d8da0c95-890b-40e1-9d8f-aaed56aa446d",
   "metadata": {},
   "outputs": [
    {
     "data": {
      "image/png": "[encoded data removed]",
      "text/plain": [
       "<Figure size 1500x200 with 1 Axes>"
      ]
     },
     "metadata": {},
     "output_type": "display_data"
    }
   ],
   "source": [
    "plot_samp(xt,yt,1000)"
   ]
  },
  {
   "cell_type": "markdown",
   "id": "844e2751-778f-4492-bb27-9e483cab0c16",
   "metadata": {},
   "source": [
    "_IT BASICALLY PLOTS AND SHOES A IMAGE IN THE DATASET AT A ACERTAIN INDEX FOR REFERENCE_"
   ]
  },
  {
   "cell_type": "markdown",
   "id": "86acfa19-2be5-437f-8a0e-93cc6cc29764",
   "metadata": {},
   "source": [
    "# \n",
    "\n",
    "NORMALIZING AND TWEAKING THE DATA TO GET BETTER ACTIVATION VALUES"
   ]
  },
  {
   "cell_type": "code",
   "execution_count": 16,
   "id": "f2689861-7efc-4d1f-9227-886c595fcb0c",
   "metadata": {},
   "outputs": [],
   "source": [
    "xt=xt/255.0\n",
    "xtt=xtt/255.0"
   ]
  },
  {
   "cell_type": "markdown",
   "id": "83225a72-377d-497f-9d79-b50507cbfbf3",
   "metadata": {},
   "source": [
    "_divided by 255 because of RGB_"
   ]
  },
  {
   "cell_type": "code",
   "execution_count": 16,
   "id": "30655ac8-c2e5-4c67-ab32-4e41f4e00680",
   "metadata": {
    "scrolled": true
   },
   "outputs": [
    {
     "name": "stdout",
     "output_type": "stream",
     "text": [
      "Epoch 1/5\n",
      "782/782 [==============================] - 12s 14ms/step - loss: 1.9015 - accuracy: 0.3208\n",
      "Epoch 2/5\n",
      "782/782 [==============================] - 16s 20ms/step - loss: 1.7294 - accuracy: 0.3917\n",
      "Epoch 3/5\n",
      "782/782 [==============================] - 24s 30ms/step - loss: 1.6490 - accuracy: 0.4198\n",
      "Epoch 4/5\n",
      "782/782 [==============================] - 30s 38ms/step - loss: 1.5970 - accuracy: 0.4384\n",
      "Epoch 5/5\n",
      "782/782 [==============================] - 30s 38ms/step - loss: 1.5558 - accuracy: 0.4532\n"
     ]
    }
   ],
   "source": [
    "ann=models.Sequential([\n",
    "    layers.Flatten(input_shape = (32,32,3)),\n",
    "    layers.Dense(512,activation= 'relu'), #first layer\n",
    "    layers.Dense(256,activation='relu'), #next layer\n",
    "    layers.Dense(10,activation='softmax') #final layer\n",
    "])\n",
    "\n",
    "ann.compile(optimizer='SGD', #strochastic gradient descent for backpropagation\n",
    "            loss='sparse_categorical_crossentropy', #to get the loss thusused to minimize the loss\n",
    "            metrics=['accuracy']) #to find the percent accuracy\n",
    "with tf.device('/CPU:0'):\n",
    "    ann.fit(xt, yt, epochs=5, batch_size=64)"
   ]
  },
  {
   "cell_type": "code",
   "execution_count": 17,
   "id": "019887c9-c3f2-48de-ab38-512467b7af8c",
   "metadata": {},
   "outputs": [
    {
     "name": "stdout",
     "output_type": "stream",
     "text": [
      "313/313 [==============================] - 2s 5ms/step\n",
      "classification report : \n",
      "               precision    recall  f1-score   support\n",
      "\n",
      "           0       0.49      0.56      0.53      1000\n",
      "           1       0.71      0.31      0.43      1000\n",
      "           2       0.41      0.21      0.28      1000\n",
      "           3       0.29      0.37      0.33      1000\n",
      "           4       0.51      0.21      0.30      1000\n",
      "           5       0.33      0.40      0.36      1000\n",
      "           6       0.54      0.42      0.48      1000\n",
      "           7       0.37      0.63      0.47      1000\n",
      "           8       0.70      0.36      0.48      1000\n",
      "           9       0.37      0.74      0.49      1000\n",
      "\n",
      "    accuracy                           0.42     10000\n",
      "   macro avg       0.47      0.42      0.41     10000\n",
      "weighted avg       0.47      0.42      0.41     10000\n",
      "\n"
     ]
    }
   ],
   "source": [
    "from sklearn.metrics import confusion_matrix, classification_report\n",
    "ypred=ann.predict(xtt)\n",
    "ypred_class=[np.argmax(element) for element in ypred]\n",
    "print('classification report : \\n',classification_report(ytt,ypred_class))"
   ]
  },
  {
   "cell_type": "code",
   "execution_count": 17,
   "id": "04049c09-3ed3-47de-80f7-9d5c9d493ff5",
   "metadata": {},
   "outputs": [],
   "source": [
    "cnn=models.Sequential([\n",
    "    layers.Conv2D(filters=32, kernel_size=(3,3), activation='relu', input_shape=(32,32,3)),\n",
    "    layers.MaxPooling2D((2,2)),\n",
    "    layers.Conv2D(filters=64, kernel_size=(3,3), activation='relu'),\n",
    "    layers.MaxPooling2D((2,2)),\n",
    "    layers.Flatten(),\n",
    "    layers.Dense(64,activation='relu'),\n",
    "    layers.Dense(10,activation='softmax')\n",
    "])"
   ]
  },
  {
   "cell_type": "code",
   "execution_count": 18,
   "id": "763e6e13-9ac3-475c-b06c-9a6e2fe51e1b",
   "metadata": {},
   "outputs": [],
   "source": [
    "cnn.compile(optimizer='adam',\n",
    "loss='sparse_categorical_crossentropy',\n",
    "metrics=['accuracy'])\n"
   ]
  },
  {
   "cell_type": "code",
   "execution_count": 20,
   "id": "a055460c-f61c-4cb9-8a5e-60473625edea",
   "metadata": {},
   "outputs": [],
   "source": [
    "# Path to external image\n",
    "img_path = \"images.jpeg\" \n",
    "# Load the image and resize to 32x32\n",
    "img = image.load_img(img_path, target_size=(32, 32))\n",
    "# Convert to array\n",
    "img_array = image.img_to_array(img)\n",
    "# Normalize same as training data\n",
    "img_array = img_array / 255.0\n",
    "# Add batch dimension (1, 32, 32, 3)\n",
    "img_array = np.expand_dims(img_array, axis=0)"
   ]
  },
  {
   "cell_type": "code",
   "execution_count": null,
   "id": "4002bd3c-93db-4b68-be57-0710024a2baa",
   "metadata": {},
   "outputs": [],
   "source": [
    "pred = cnn.predict(img_array)\n",
    "pred_class = np.argmax(pred, axis=1)[0]\n",
    "print(\"Predicted class:\", pred_class)"
   ]
  },
  {
   "cell_type": "code",
   "execution_count": 21,
   "id": "b9f38658-f87b-4ac7-9452-f0c1b46891b8",
   "metadata": {},
   "outputs": [
    {
     "name": "stdout",
     "output_type": "stream",
     "text": [
      "Shape: (1, 32, 32, 3)\n",
      "dtype: float32\n"
     ]
    }
   ],
   "source": [
    "print(\"Shape:\", img_array.shape)\n",
    "print(\"dtype:\", img_array.dtype)\n"
   ]
  },
  {
   "cell_type": "code",
   "execution_count": null,
   "id": "53db1970-1d0a-4a1b-8d32-b1bbf1c75251",
   "metadata": {},
   "outputs": [],
   "source": [
    "from tensorflow.keras.preprocessing import image\n",
    "import numpy as np\n",
    "import matplotlib.pyplot as plt\n",
    "\n",
    "# CIFAR-10 class labels\n",
    "cifar10_classes = [\n",
    "    \"airplane\", \"automobile\", \"bird\", \"cat\", \"deer\",\n",
    "    \"dog\", \"frog\", \"horse\", \"ship\", \"truck\"\n",
    "]\n",
    "\n",
    "# Path to your external image\n",
    "img_path = \"E:\\Jupyter Notebook\\Image Classification\\images.jpg\"  # <-- replace with your file\n",
    "\n",
    "# Load and preprocess\n",
    "img = image.load_img(img_path, target_size=(32, 32))    # resize\n",
    "img_array = image.img_to_array(img)                     # (32, 32, 3)\n",
    "img_array = img_array.astype(\"float32\") / 255.0         # normalize\n",
    "img_array = np.expand_dims(img_array, axis=0)           # (1, 32, 32, 3)\n",
    "\n",
    "# Predict\n",
    "pred = cnn.predict(img_array)\n",
    "pred_class = np.argmax(pred, axis=1)[0]\n",
    "pred_label = cifar10_classes[pred_class]\n",
    "\n",
    "# Show\n",
    "plt.imshow(img)\n",
    "plt.title(f\"Predicted: {pred_label} ({pred_class})\")\n",
    "plt.axis(\"off\")\n",
    "plt.show()\n"
   ]
  },
  {
   "cell_type": "code",
   "execution_count": null,
   "id": "01e9e540-0e74-4ddf-8c1e-5654a1782cee",
   "metadata": {},
   "outputs": [],
   "source": []
  }
 ],
 "metadata": {
  "kernelspec": {
   "display_name": "Python 3 (ipykernel)",
   "language": "python",
   "name": "python3"
  },
  "language_info": {
   "codemirror_mode": {
    "name": "ipython",
    "version": 3
   },
   "file_extension": ".py",
   "mimetype": "text/x-python",
   "name": "python",
   "nbconvert_exporter": "python",
   "pygments_lexer": "ipython3",
   "version": "3.10.18"
  }
 },
 "nbformat": 4,
 "nbformat_minor": 5
}
